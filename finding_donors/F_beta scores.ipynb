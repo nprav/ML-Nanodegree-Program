{
 "cells": [
  {
   "cell_type": "code",
   "execution_count": 2,
   "metadata": {
    "ExecuteTime": {
     "end_time": "2018-11-05T02:40:16.891909Z",
     "start_time": "2018-11-05T02:40:16.692113Z"
    }
   },
   "outputs": [],
   "source": [
    "import numpy as np\n",
    "import matplotlib.pyplot as plt\n",
    "from mpl_toolkits.mplot3d import Axes3D\n",
    "from ipywidgets import interact, interactive, FloatSlider\n",
    "from IPython.display import clear_output, display, HTML\n",
    "from matplotlib import animation\n",
    "%matplotlib inline"
   ]
  },
  {
   "cell_type": "markdown",
   "metadata": {
    "ExecuteTime": {
     "end_time": "2018-10-29T21:47:43.244112Z",
     "start_time": "2018-10-29T21:47:43.219979Z"
    }
   },
   "source": [
    "$$ F_{\\beta} = (1 + \\beta^2) \\cdot \\frac{precision \\cdot recall}{\\left( \\beta^2 \\cdot precision \\right) + recall} $$"
   ]
  },
  {
   "cell_type": "code",
   "execution_count": 3,
   "metadata": {
    "ExecuteTime": {
     "end_time": "2018-11-05T02:40:16.940873Z",
     "start_time": "2018-11-05T02:40:16.897039Z"
    }
   },
   "outputs": [],
   "source": [
    "def f_beta(beta = 1):\n",
    "\n",
    "    precision = np.linspace(0.01,1,50)\n",
    "    recall = np.linspace(0.01,1,50)\n",
    "    X,Y = np.meshgrid(precision,recall)\n",
    "    Z = (1+beta**2)*X*Y / (beta**2*X + Y)\n",
    "\n",
    "    fig = plt.figure()\n",
    "    ax = fig.gca()\n",
    "    surf = ax.contourf(X,Y,Z)\n",
    "    surf.set_clim(0,1)\n",
    "    cbar = plt.colorbar(surf)"
   ]
  },
  {
   "cell_type": "code",
   "execution_count": 4,
   "metadata": {
    "ExecuteTime": {
     "end_time": "2018-11-05T02:40:17.662170Z",
     "start_time": "2018-11-05T02:40:16.947562Z"
    }
   },
   "outputs": [
    {
     "data": {
      "application/vnd.jupyter.widget-view+json": {
       "model_id": "4a24685e65f5440ea68574dda27456ab",
       "version_major": 2,
       "version_minor": 0
      },
      "text/plain": [
       "A Jupyter Widget"
      ]
     },
     "metadata": {},
     "output_type": "display_data"
    }
   ],
   "source": [
    "plot1 = interactive(f_beta, beta = (0.5,2))\n",
    "display(plot1)"
   ]
  },
  {
   "cell_type": "code",
   "execution_count": 5,
   "metadata": {
    "ExecuteTime": {
     "end_time": "2018-11-05T02:40:17.708573Z",
     "start_time": "2018-11-05T02:40:17.670490Z"
    }
   },
   "outputs": [],
   "source": [
    "def f_beta2(beta = 1):\n",
    "\n",
    "    precision = np.linspace(0.01,1,10)\n",
    "    recall = np.linspace(0.01,1,10)\n",
    "    X,Y = np.meshgrid(precision,recall)\n",
    "    Z = (1+beta**2)*X*Y / (beta**2*X + Y)\n",
    "\n",
    "    fig = plt.figure()\n",
    "    ax = Axes3D(fig)\n",
    "    surf = ax.plot_surface(X, Y, Z)"
   ]
  },
  {
   "cell_type": "code",
   "execution_count": 6,
   "metadata": {
    "ExecuteTime": {
     "end_time": "2018-11-05T02:40:18.124308Z",
     "start_time": "2018-11-05T02:40:17.716004Z"
    }
   },
   "outputs": [
    {
     "data": {
      "application/vnd.jupyter.widget-view+json": {
       "model_id": "6b788e83b72d4f2fa3f3a48612bfdf70",
       "version_major": 2,
       "version_minor": 0
      },
      "text/plain": [
       "A Jupyter Widget"
      ]
     },
     "metadata": {},
     "output_type": "display_data"
    }
   ],
   "source": [
    "plot2 = interactive(f_beta2, beta = (0.5,2))\n",
    "display(plot2)"
   ]
  },
  {
   "cell_type": "code",
   "execution_count": null,
   "metadata": {},
   "outputs": [],
   "source": []
  }
 ],
 "metadata": {
  "kernelspec": {
   "display_name": "Python 3",
   "language": "python",
   "name": "python3"
  },
  "language_info": {
   "codemirror_mode": {
    "name": "ipython",
    "version": 3
   },
   "file_extension": ".py",
   "mimetype": "text/x-python",
   "name": "python",
   "nbconvert_exporter": "python",
   "pygments_lexer": "ipython3",
   "version": "3.6.3"
  },
  "toc": {
   "base_numbering": 1,
   "nav_menu": {},
   "number_sections": false,
   "sideBar": true,
   "skip_h1_title": false,
   "title_cell": "Table of Contents",
   "title_sidebar": "Contents",
   "toc_cell": false,
   "toc_position": {},
   "toc_section_display": true,
   "toc_window_display": false
  },
  "varInspector": {
   "cols": {
    "lenName": 16,
    "lenType": 16,
    "lenVar": 40
   },
   "kernels_config": {
    "python": {
     "delete_cmd_postfix": "",
     "delete_cmd_prefix": "del ",
     "library": "var_list.py",
     "varRefreshCmd": "print(var_dic_list())"
    },
    "r": {
     "delete_cmd_postfix": ") ",
     "delete_cmd_prefix": "rm(",
     "library": "var_list.r",
     "varRefreshCmd": "cat(var_dic_list()) "
    }
   },
   "types_to_exclude": [
    "module",
    "function",
    "builtin_function_or_method",
    "instance",
    "_Feature"
   ],
   "window_display": false
  }
 },
 "nbformat": 4,
 "nbformat_minor": 2
}
